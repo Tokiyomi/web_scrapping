{
 "cells": [
  {
   "cell_type": "code",
   "execution_count": 1,
   "metadata": {},
   "outputs": [],
   "source": [
    "#!pip install selenium"
   ]
  },
  {
   "cell_type": "code",
   "execution_count": 2,
   "metadata": {},
   "outputs": [],
   "source": [
    "# Importar paqueterias\n",
    "from selenium import webdriver\n",
    "from selenium.common.exceptions import *\n",
    "# For data manipulation\n",
    "import pandas as pd"
   ]
  },
  {
   "cell_type": "code",
   "execution_count": 3,
   "metadata": {},
   "outputs": [],
   "source": [
    "# C:\\Users\\monic\\Desktop\\Repository\\Web_scrapping"
   ]
  },
  {
   "cell_type": "code",
   "execution_count": 4,
   "metadata": {},
   "outputs": [],
   "source": [
    "### Define global variables --> slash \"/\" y al final poner /chromedriver\n",
    "webdriver_path = 'C:/Users/monic/Desktop/Repository/Web_scrapping/chromedriver' "
   ]
  },
  {
   "cell_type": "code",
   "execution_count": 5,
   "metadata": {},
   "outputs": [
    {
     "data": {
      "text/plain": [
       "'C:/Users/monic/Desktop/Repository/Web_scrapping/chromedriver'"
      ]
     },
     "execution_count": 5,
     "metadata": {},
     "output_type": "execute_result"
    }
   ],
   "source": [
    "webdriver_path"
   ]
  },
  {
   "cell_type": "code",
   "execution_count": 6,
   "metadata": {},
   "outputs": [],
   "source": [
    "# URL PAGE\n",
    "lazada_url = 'https://www.lazada.com.my'"
   ]
  },
  {
   "cell_type": "code",
   "execution_count": 7,
   "metadata": {},
   "outputs": [
    {
     "data": {
      "text/plain": [
       "'https://www.lazada.com.my'"
      ]
     },
     "execution_count": 7,
     "metadata": {},
     "output_type": "execute_result"
    }
   ],
   "source": [
    "lazada_url"
   ]
  },
  {
   "cell_type": "code",
   "execution_count": 8,
   "metadata": {},
   "outputs": [],
   "source": [
    "# Busqueda\n",
    "search_item = 'Nescafe Gold refill 170g'"
   ]
  },
  {
   "cell_type": "code",
   "execution_count": 9,
   "metadata": {},
   "outputs": [
    {
     "data": {
      "text/plain": [
       "'Nescafe Gold refill 170g'"
      ]
     },
     "execution_count": 9,
     "metadata": {},
     "output_type": "execute_result"
    }
   ],
   "source": [
    "search_item"
   ]
  },
  {
   "cell_type": "code",
   "execution_count": 10,
   "metadata": {},
   "outputs": [],
   "source": [
    "## custom chrome options\n",
    "options = webdriver.ChromeOptions()\n",
    "#options.add_argument('--headless') \n",
    "options.add_argument('start-maximized') \n",
    "options.add_argument('disable-infobars')\n",
    "options.add_argument('--disable-extensions')"
   ]
  },
  {
   "cell_type": "code",
   "execution_count": 11,
   "metadata": {},
   "outputs": [],
   "source": [
    "## Open the Chrome browser\n",
    "browser = webdriver.Chrome(webdriver_path, options=options)"
   ]
  },
  {
   "cell_type": "code",
   "execution_count": 12,
   "metadata": {},
   "outputs": [],
   "source": [
    "## Get to lazada\n",
    "browser.get(lazada_url)"
   ]
  },
  {
   "cell_type": "code",
   "execution_count": 13,
   "metadata": {},
   "outputs": [],
   "source": [
    "# Search item\n",
    "search_bar = browser.find_element_by_id('q')"
   ]
  },
  {
   "cell_type": "code",
   "execution_count": 14,
   "metadata": {},
   "outputs": [],
   "source": [
    "# buscar item\n",
    "search_bar.send_keys(search_item)"
   ]
  },
  {
   "cell_type": "code",
   "execution_count": 15,
   "metadata": {},
   "outputs": [],
   "source": [
    "# click\n",
    "search_bar_click = browser.find_element_by_class_name('search-box__button--1oH7')\n",
    "#<button class=\"\" tabindex=\"2\" data-spm-click=\"gostr=/lzdpub.header.search;locaid=d_go\">SEARCH</button>"
   ]
  },
  {
   "cell_type": "code",
   "execution_count": 16,
   "metadata": {},
   "outputs": [],
   "source": [
    "search_bar_click.submit() #dar click"
   ]
  },
  {
   "cell_type": "code",
   "execution_count": 22,
   "metadata": {},
   "outputs": [],
   "source": [
    "# Nombres de producto\n",
    "item_titles = browser.find_elements_by_class_name('c16H9d')\n",
    "item_prices = browser.find_elements_by_class_name('c13VH6')\n",
    "#<div class=\"c16H9d\"><a age=\"0\" href=\"//www.lazada.com.my/products/nescafe-gold-original-refill-pack-170g-i471378841-s768530881.html?search=1\" title=\"NESCAFE GOLD Original Refill Pack 170g\">NESCAFE GOLD Original Refill Pack 170g</a></div>"
   ]
  },
  {
   "cell_type": "code",
   "execution_count": 18,
   "metadata": {},
   "outputs": [],
   "source": [
    "# Lista de items \n",
    "titles_list = [] # empty list"
   ]
  },
  {
   "cell_type": "code",
   "execution_count": 23,
   "metadata": {},
   "outputs": [],
   "source": [
    "# Loop over item_list\n",
    "for title in item_titles: # Para cada titulo dentro de item_titles\n",
    "    titles_list.append(title.text)"
   ]
  },
  {
   "cell_type": "code",
   "execution_count": 24,
   "metadata": {},
   "outputs": [
    {
     "data": {
      "text/plain": [
       "['NESCAFE GOLD Original Refill Pack 170g',\n",
       " 'NESCAFE GOLD Refill 170g',\n",
       " '[buy 3 get extra discount] TTLET NESCAFE GOLD Refill Twin Pack(170g x 2 Packs)',\n",
       " 'NESCAFE GOLD REFILL 170g EXP 01/2021',\n",
       " '[EXPIRY 05/2021] NESCAFE Gold Refill Pack 170g x 2 - NEW PACKAGING!',\n",
       " 'Nescafe Gold Refill Pack 170g',\n",
       " 'NESCAFE GOLD Refill 170g x2 packs',\n",
       " 'NESCAFE Gold Refill Twin Pack x 170g',\n",
       " 'Nescafe Gold Refill Pack 170g',\n",
       " 'NESCAFE GOLD Refill 170g',\n",
       " 'NESCAFE GOLD Refill 170g',\n",
       " 'Nescafe Barista Nara + Nescafe Gold REFILL 170g x3packs']"
      ]
     },
     "execution_count": 24,
     "metadata": {},
     "output_type": "execute_result"
    }
   ],
   "source": [
    "titles_list"
   ]
  },
  {
   "cell_type": "code",
   "execution_count": null,
   "metadata": {},
   "outputs": [],
   "source": []
  }
 ],
 "metadata": {
  "kernelspec": {
   "display_name": "Python 3",
   "language": "python",
   "name": "python3"
  },
  "language_info": {
   "codemirror_mode": {
    "name": "ipython",
    "version": 3
   },
   "file_extension": ".py",
   "mimetype": "text/x-python",
   "name": "python",
   "nbconvert_exporter": "python",
   "pygments_lexer": "ipython3",
   "version": "3.7.1"
  }
 },
 "nbformat": 4,
 "nbformat_minor": 2
}
