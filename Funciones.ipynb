{
 "cells": [
  {
   "cell_type": "markdown",
   "metadata": {},
   "source": [
    "### Procesamiento de texto - normalización"
   ]
  },
  {
   "cell_type": "code",
   "execution_count": 37,
   "metadata": {},
   "outputs": [],
   "source": [
    "def elimina_tildes(cadena):\n",
    "    \"\"\"Eliminar acentos de las palabras\"\"\"\n",
    "    a,b = 'áéíóúüÁÉÍÓÚÜ','aeiouuAEIOUU'\n",
    "    trans = str.maketrans(a,b)\n",
    "    return(cadena.translate(trans))\n",
    "\n",
    "def remove_punctuation(text):\n",
    "    import re,string\n",
    "    return re.sub('[%s]' % re.escape(string.punctuation), '', text)"
   ]
  },
  {
   "cell_type": "code",
   "execution_count": 38,
   "metadata": {},
   "outputs": [],
   "source": [
    "def extract_prices(lista):\n",
    "    \"Dada una lista con precios, returna la cantidad como int y su moneda USD o MXN\"\n",
    "    prices=[]\n",
    "    monedas=[]\n",
    "    for element in lista:\n",
    "        if '$' in element:\n",
    "            prices.append(element)\n",
    "            \"\"\" Checar si son MXN o USD\"\"\"\n",
    "            if 'MXN' in element:\n",
    "                moneda = 'MXN'\n",
    "            elif 'USD' in element:\n",
    "                moneda = 'USD'\n",
    "            else:\n",
    "                moneda = 'MXN'\n",
    "            monedas.append(moneda)\n",
    "    \n",
    "    for i in range (len(prices)):\n",
    "        res = [i for i in prices[i] if i.isdigit()]\n",
    "        res = ''.join(res)\n",
    "        prices[i]=int(res)\n",
    "        \n",
    "    return(prices, monedas)"
   ]
  },
  {
   "cell_type": "code",
   "execution_count": 39,
   "metadata": {},
   "outputs": [],
   "source": [
    "def normalizar(input_str):\n",
    "    \"Normaliza el texto -minusculas,puntuación,tildes\"\n",
    "    input_str = input_str.strip() # Remover espacios en blanco en los extremos\n",
    "    input_str = input_str.lower() # Minusculas\n",
    "    input_str = elimina_tildes(input_str) # Quitar acentos\n",
    "    input_str = remove_punctuation(input_str) # Puntuacion\n",
    "    return(input_str)"
   ]
  },
  {
   "cell_type": "code",
   "execution_count": 46,
   "metadata": {},
   "outputs": [],
   "source": [
    "def tokenizar(sentence):\n",
    "    from nltk.corpus import stopwords \n",
    "    from nltk.tokenize import word_tokenize \n",
    "\n",
    "    sentence = \"Hola!\"\n",
    "\n",
    "    stop_words = set(stopwords.words('spanish')) \n",
    "    word_tokens = word_tokenize(sentence)\n",
    "\n",
    "    filtered_sentence = [w for w in word_tokens if not w in stop_words] \n",
    "    \n",
    "    return(filtered_sentence)"
   ]
  },
  {
   "cell_type": "code",
   "execution_count": 9,
   "metadata": {},
   "outputs": [],
   "source": [
    "def get_text(url, clase):\n",
    "    \n",
    "    import requests\n",
    "    from bs4 import BeautifulSoup\n",
    "    \n",
    "    lista = []\n",
    "    for i in range(len(url)):\n",
    "        page = requests.get(url[i])\n",
    "        soup = BeautifulSoup(page.content)\n",
    "        soup_class = soup.find_all(class_=clase)\n",
    "\n",
    "        for item in soup_class:\n",
    "            lista.append(item.text)\n",
    "    \n",
    "    return lista"
   ]
  },
  {
   "cell_type": "code",
   "execution_count": 8,
   "metadata": {},
   "outputs": [],
   "source": [
    "def get_df(lista):\n",
    "    aux = [info.strip() for info in lista]\n",
    "    for i in range(len(aux)):\n",
    "        aux[i]=aux[i].split('\\n')\n",
    "        aux[i]=[info.strip() for info in aux[i] if info]\n",
    "    return (aux)"
   ]
  },
  {
   "cell_type": "code",
   "execution_count": 10,
   "metadata": {},
   "outputs": [],
   "source": [
    "import requests\n",
    "import lxml.html as lh\n",
    "import pandas as pd"
   ]
  },
  {
   "cell_type": "code",
   "execution_count": 44,
   "metadata": {},
   "outputs": [],
   "source": [
    "url='https://www.metroscubicos.com/articulo/consejos/2016/05/18/merida-con-mas-de-30-proyectos-inmobiliarios-nuevos'\n",
    "#Create a handle, page, to handle the contents of the website\n",
    "page = requests.get(url)\n",
    "#Store the contents of the website under doc\n",
    "doc = lh.fromstring(page.content)\n",
    "#Parse data that are stored between <tr>..</tr> of HTML\n",
    "tr_elements = doc.xpath('//tr')"
   ]
  },
  {
   "cell_type": "code",
   "execution_count": 45,
   "metadata": {},
   "outputs": [
    {
     "data": {
      "text/plain": [
       "[5, 5, 5, 5, 5, 5, 5, 5, 5, 5, 5, 5]"
      ]
     },
     "execution_count": 45,
     "metadata": {},
     "output_type": "execute_result"
    }
   ],
   "source": [
    "#Check the length of the first 12 rows\n",
    "[len(T) for T in tr_elements[:12]]"
   ]
  },
  {
   "cell_type": "code",
   "execution_count": 46,
   "metadata": {},
   "outputs": [
    {
     "name": "stdout",
     "output_type": "stream",
     "text": [
      "1:\"\n",
      "PROYECTO\n",
      "\"\n",
      "2:\"\n",
      "COLONIA\n",
      "\"\n",
      "3:\"\n",
      "SUPERFICIE\n",
      "\"\n",
      "4:\"\n",
      "RECÁMARAS\n",
      "\"\n",
      "5:\"\n",
      " $ DESDE\n",
      "\"\n"
     ]
    }
   ],
   "source": [
    "tr_elements = doc.xpath('//tr')\n",
    "#Create empty list\n",
    "col=[]\n",
    "i=0\n",
    "#For each row, store each first element (header) and an empty list\n",
    "for t in tr_elements[0]:\n",
    "    i+=1\n",
    "    name=t.text_content()\n",
    "    #print('%d:\"%s\"'%(i,name))\n",
    "    col.append((name,[]))"
   ]
  },
  {
   "cell_type": "code",
   "execution_count": 47,
   "metadata": {},
   "outputs": [
    {
     "data": {
      "text/plain": [
       "14"
      ]
     },
     "execution_count": 47,
     "metadata": {},
     "output_type": "execute_result"
    }
   ],
   "source": [
    "len(tr_elements)"
   ]
  },
  {
   "cell_type": "code",
   "execution_count": 48,
   "metadata": {},
   "outputs": [],
   "source": [
    "#Since out first row is the header, data is stored on the second row onwards\n",
    "for j in range(1,len(tr_elements)):\n",
    "    #T is our j'th row\n",
    "    T=tr_elements[j]\n",
    "    \n",
    "    #If row is not of size 10, the //tr data is not from our table \n",
    "    #if len(T)!=8:\n",
    "        #break\n",
    "    \n",
    "    #i is the index of our column\n",
    "    i=0\n",
    "    \n",
    "    #Iterate through each element of the row\n",
    "    for t in T.iterchildren():\n",
    "        data=t.text_content() \n",
    "        #Check if row is empty\n",
    "        if i>0:\n",
    "        #Convert any numerical value to integers\n",
    "            try:\n",
    "                data=int(data)\n",
    "            except:\n",
    "                pass\n",
    "        #Append the data to the empty list of the i'th column\n",
    "        col[i][1].append(data)\n",
    "        #Increment i for the next column\n",
    "        i+=1"
   ]
  },
  {
   "cell_type": "code",
   "execution_count": 49,
   "metadata": {},
   "outputs": [],
   "source": [
    "Dict={title:column for (title,column) in col}\n",
    "df=pd.DataFrame(Dict)"
   ]
  },
  {
   "cell_type": "code",
   "execution_count": 50,
   "metadata": {},
   "outputs": [
    {
     "data": {
      "text/html": [
       "<div>\n",
       "<style scoped>\n",
       "    .dataframe tbody tr th:only-of-type {\n",
       "        vertical-align: middle;\n",
       "    }\n",
       "\n",
       "    .dataframe tbody tr th {\n",
       "        vertical-align: top;\n",
       "    }\n",
       "\n",
       "    .dataframe thead th {\n",
       "        text-align: right;\n",
       "    }\n",
       "</style>\n",
       "<table border=\"1\" class=\"dataframe\">\n",
       "  <thead>\n",
       "    <tr style=\"text-align: right;\">\n",
       "      <th></th>\n",
       "      <th>PROYECTO</th>\n",
       "      <th>COLONIA</th>\n",
       "      <th>SUPERFICIE</th>\n",
       "      <th>RECÁMARAS</th>\n",
       "      <th>$ DESDE</th>\n",
       "    </tr>\n",
       "  </thead>\n",
       "  <tbody>\n",
       "    <tr>\n",
       "      <th>0</th>\n",
       "      <td>\\nAltabrisa Residencial\\n</td>\n",
       "      <td>\\nAltabriza\\n</td>\n",
       "      <td>\\n222-256 m2\\n</td>\n",
       "      <td>3</td>\n",
       "      <td>\\n$ 2’150,000\\n</td>\n",
       "    </tr>\n",
       "    <tr>\n",
       "      <th>1</th>\n",
       "      <td>\\nGran Santa Fe Norte\\n</td>\n",
       "      <td>\\nCaucel\\n</td>\n",
       "      <td>\\n78-231m2\\n</td>\n",
       "      <td>\\n2 a 3\\n</td>\n",
       "      <td>\\n$830,000\\n</td>\n",
       "    </tr>\n",
       "    <tr>\n",
       "      <th>2</th>\n",
       "      <td>\\nReal Montejo\\n</td>\n",
       "      <td>\\nReal Montejo\\n</td>\n",
       "      <td>\\n166.50 m²\\n</td>\n",
       "      <td>\\n3 a 4\\n</td>\n",
       "      <td>\\n$1’411,720\\n</td>\n",
       "    </tr>\n",
       "    <tr>\n",
       "      <th>3</th>\n",
       "      <td>\\nAlzáre Real Montejo\\n</td>\n",
       "      <td>\\nReal Montejo\\n</td>\n",
       "      <td>\\n163 - 163 m2\\n</td>\n",
       "      <td>3</td>\n",
       "      <td>\\n$1’385,000\\n</td>\n",
       "    </tr>\n",
       "    <tr>\n",
       "      <th>4</th>\n",
       "      <td>\\nReal de Dzitia\\n</td>\n",
       "      <td>\\nReal Montejo\\n</td>\n",
       "      <td>\\n141 m2\\n</td>\n",
       "      <td>3</td>\n",
       "      <td>\\n$1’195,000\\n</td>\n",
       "    </tr>\n",
       "  </tbody>\n",
       "</table>\n",
       "</div>"
      ],
      "text/plain": [
       "                \\nPROYECTO\\n       \\nCOLONIA\\n    \\nSUPERFICIE\\n  \\\n",
       "0  \\nAltabrisa Residencial\\n     \\nAltabriza\\n    \\n222-256 m2\\n   \n",
       "1    \\nGran Santa Fe Norte\\n        \\nCaucel\\n      \\n78-231m2\\n   \n",
       "2           \\nReal Montejo\\n  \\nReal Montejo\\n     \\n166.50 m²\\n   \n",
       "3    \\nAlzáre Real Montejo\\n  \\nReal Montejo\\n  \\n163 - 163 m2\\n   \n",
       "4         \\nReal de Dzitia\\n  \\nReal Montejo\\n        \\n141 m2\\n   \n",
       "\n",
       "  \\nRECÁMARAS\\n     \\n $ DESDE\\n  \n",
       "0             3  \\n$ 2’150,000\\n  \n",
       "1     \\n2 a 3\\n     \\n$830,000\\n  \n",
       "2     \\n3 a 4\\n   \\n$1’411,720\\n  \n",
       "3             3   \\n$1’385,000\\n  \n",
       "4             3   \\n$1’195,000\\n  "
      ]
     },
     "execution_count": 50,
     "metadata": {},
     "output_type": "execute_result"
    }
   ],
   "source": [
    "df.head()"
   ]
  },
  {
   "cell_type": "code",
   "execution_count": null,
   "metadata": {},
   "outputs": [],
   "source": []
  }
 ],
 "metadata": {
  "kernelspec": {
   "display_name": "Python 3",
   "language": "python",
   "name": "python3"
  },
  "language_info": {
   "codemirror_mode": {
    "name": "ipython",
    "version": 3
   },
   "file_extension": ".py",
   "mimetype": "text/x-python",
   "name": "python",
   "nbconvert_exporter": "python",
   "pygments_lexer": "ipython3",
   "version": "3.7.1"
  }
 },
 "nbformat": 4,
 "nbformat_minor": 2
}
